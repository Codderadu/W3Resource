{
 "cells": [
  {
   "cell_type": "code",
   "execution_count": 1,
   "id": "dc892ffa",
   "metadata": {},
   "outputs": [],
   "source": [
    "import numpy as np\n",
    "import pandas as pd"
   ]
  },
  {
   "cell_type": "markdown",
   "id": "ca63462c",
   "metadata": {},
   "source": [
    "1. Write a Pandas program to create and display a one-dimensional array-like object containing an array of data using Pandas module."
   ]
  },
  {
   "cell_type": "code",
   "execution_count": 2,
   "id": "32eb3c75",
   "metadata": {},
   "outputs": [
    {
     "data": {
      "text/plain": [
       "0    1\n",
       "1    2\n",
       "2    3\n",
       "3    4\n",
       "4    5\n",
       "dtype: int64"
      ]
     },
     "execution_count": 2,
     "metadata": {},
     "output_type": "execute_result"
    }
   ],
   "source": [
    "pd.Series([1,2,3,4,5])"
   ]
  },
  {
   "cell_type": "markdown",
   "id": "f0a18e85",
   "metadata": {},
   "source": [
    "2.Write a Pandas program to convert a Panda module Series to Python list and it's type."
   ]
  },
  {
   "cell_type": "code",
   "execution_count": 4,
   "id": "5f8c87cd",
   "metadata": {},
   "outputs": [],
   "source": [
    "s=pd.Series([1,2,3,4,5])"
   ]
  },
  {
   "cell_type": "code",
   "execution_count": 7,
   "id": "29006f35",
   "metadata": {},
   "outputs": [
    {
     "data": {
      "text/plain": [
       "list"
      ]
     },
     "execution_count": 7,
     "metadata": {},
     "output_type": "execute_result"
    }
   ],
   "source": [
    "lst=list(s)\n",
    "type(lst)"
   ]
  },
  {
   "cell_type": "markdown",
   "id": "aefcc9a0",
   "metadata": {},
   "source": [
    "3. Write a Pandas program to add, subtract, multiple and divide two Pandas Series.\n",
    "Sample Series: [2, 4, 6, 8, 10], [1, 3, 5, 7, 9]"
   ]
  },
  {
   "cell_type": "code",
   "execution_count": 10,
   "id": "f5c5130e",
   "metadata": {},
   "outputs": [],
   "source": [
    "a=pd.Series([2, 4, 6, 8, 10])\n",
    "b=pd.Series([1, 3, 5, 7, 9])"
   ]
  },
  {
   "cell_type": "code",
   "execution_count": 11,
   "id": "b1b957b1",
   "metadata": {},
   "outputs": [
    {
     "data": {
      "text/plain": [
       "0     3\n",
       "1     7\n",
       "2    11\n",
       "3    15\n",
       "4    19\n",
       "dtype: int64"
      ]
     },
     "execution_count": 11,
     "metadata": {},
     "output_type": "execute_result"
    }
   ],
   "source": [
    "a+b"
   ]
  },
  {
   "cell_type": "code",
   "execution_count": 12,
   "id": "bf23dcca",
   "metadata": {},
   "outputs": [
    {
     "data": {
      "text/plain": [
       "0     2\n",
       "1    12\n",
       "2    30\n",
       "3    56\n",
       "4    90\n",
       "dtype: int64"
      ]
     },
     "execution_count": 12,
     "metadata": {},
     "output_type": "execute_result"
    }
   ],
   "source": [
    "a*b"
   ]
  },
  {
   "cell_type": "code",
   "execution_count": 13,
   "id": "016db136",
   "metadata": {},
   "outputs": [
    {
     "data": {
      "text/plain": [
       "0    1\n",
       "1    1\n",
       "2    1\n",
       "3    1\n",
       "4    1\n",
       "dtype: int64"
      ]
     },
     "execution_count": 13,
     "metadata": {},
     "output_type": "execute_result"
    }
   ],
   "source": [
    "a-b"
   ]
  },
  {
   "cell_type": "code",
   "execution_count": 14,
   "id": "5d8ed841",
   "metadata": {},
   "outputs": [
    {
     "data": {
      "text/plain": [
       "0    2.000000\n",
       "1    1.333333\n",
       "2    1.200000\n",
       "3    1.142857\n",
       "4    1.111111\n",
       "dtype: float64"
      ]
     },
     "execution_count": 14,
     "metadata": {},
     "output_type": "execute_result"
    }
   ],
   "source": [
    "a/b"
   ]
  },
  {
   "cell_type": "markdown",
   "id": "a817a28b",
   "metadata": {},
   "source": [
    "4. Write a Pandas program to compare the elements of the two Pandas Series.\n",
    "Sample Series: [2, 4, 6, 8, 10], [1, 3, 5, 7, 10]"
   ]
  },
  {
   "cell_type": "code",
   "execution_count": 15,
   "id": "bbe6f3f5",
   "metadata": {},
   "outputs": [],
   "source": [
    "a=pd.Series([2, 4, 6, 8, 10])\n",
    "b=pd.Series( [1, 3, 5, 7, 10])"
   ]
  },
  {
   "cell_type": "code",
   "execution_count": 19,
   "id": "b29d74b6",
   "metadata": {},
   "outputs": [
    {
     "data": {
      "text/plain": [
       "0     True\n",
       "1     True\n",
       "2     True\n",
       "3     True\n",
       "4    False\n",
       "dtype: bool"
      ]
     },
     "execution_count": 19,
     "metadata": {},
     "output_type": "execute_result"
    }
   ],
   "source": [
    "#a is geater than b\n",
    "a>b"
   ]
  },
  {
   "cell_type": "code",
   "execution_count": 20,
   "id": "006996de",
   "metadata": {},
   "outputs": [
    {
     "data": {
      "text/plain": [
       "0    False\n",
       "1    False\n",
       "2    False\n",
       "3    False\n",
       "4    False\n",
       "dtype: bool"
      ]
     },
     "execution_count": 20,
     "metadata": {},
     "output_type": "execute_result"
    }
   ],
   "source": [
    "#a is less than b\n",
    "a<b"
   ]
  },
  {
   "cell_type": "code",
   "execution_count": 21,
   "id": "b06e25ec",
   "metadata": {},
   "outputs": [
    {
     "data": {
      "text/plain": [
       "0    False\n",
       "1    False\n",
       "2    False\n",
       "3    False\n",
       "4     True\n",
       "dtype: bool"
      ]
     },
     "execution_count": 21,
     "metadata": {},
     "output_type": "execute_result"
    }
   ],
   "source": [
    "#a is equal to b\n",
    "a==b"
   ]
  },
  {
   "cell_type": "markdown",
   "id": "38cc2230",
   "metadata": {},
   "source": [
    "5. Write a Pandas program to convert a dictionary to a Pandas series."
   ]
  },
  {
   "cell_type": "code",
   "execution_count": 22,
   "id": "6fb26723",
   "metadata": {},
   "outputs": [],
   "source": [
    "# Sample Series: \n",
    "# Original dictionary:\n",
    "# {'a': 100, 'b': 200, 'c': 300, 'd': 400, 'e': 800}\n",
    "\n",
    "# Converted series:\n",
    "# a    100\n",
    "# b    200\n",
    "# c    300\n",
    "# d    400\n",
    "# e    800\n",
    "# # dtype: int64 "
   ]
  },
  {
   "cell_type": "code",
   "execution_count": 24,
   "id": "8958799c",
   "metadata": {},
   "outputs": [
    {
     "data": {
      "text/plain": [
       "a    100\n",
       "b    200\n",
       "c    300\n",
       "d    400\n",
       "e    800\n",
       "dtype: int64"
      ]
     },
     "execution_count": 24,
     "metadata": {},
     "output_type": "execute_result"
    }
   ],
   "source": [
    "a={'a': 100, 'b': 200, 'c': 300, 'd': 400, 'e': 800}\n",
    "pd.Series(a)"
   ]
  },
  {
   "cell_type": "markdown",
   "id": "8e49862a",
   "metadata": {},
   "source": [
    "6. Write a Pandas program to convert a NumPy array to a Pandas series."
   ]
  },
  {
   "cell_type": "code",
   "execution_count": 25,
   "id": "fc287489",
   "metadata": {},
   "outputs": [],
   "source": [
    "# Sample Series: \n",
    "#   NumPy array:\n",
    "# [10 20 30 40 50]\n",
    "# Converted Pandas series:\n",
    "# 0    10\n",
    "# 1    20\n",
    "# 2    30\n",
    "# 3    40\n",
    "# 4    50\n",
    "# dtype: int64 "
   ]
  },
  {
   "cell_type": "code",
   "execution_count": 27,
   "id": "5fb6e70a",
   "metadata": {},
   "outputs": [
    {
     "data": {
      "text/plain": [
       "0    10\n",
       "1    20\n",
       "2    30\n",
       "3    40\n",
       "dtype: int32"
      ]
     },
     "execution_count": 27,
     "metadata": {},
     "output_type": "execute_result"
    }
   ],
   "source": [
    "arr=np.array([10,20,30,40])\n",
    "pd.Series(arr)"
   ]
  },
  {
   "cell_type": "markdown",
   "id": "2440cb7a",
   "metadata": {},
   "source": [
    "7. Write a Pandas program to change the data type of given a column or a Series."
   ]
  },
  {
   "cell_type": "code",
   "execution_count": 28,
   "id": "725f4168",
   "metadata": {},
   "outputs": [],
   "source": [
    "# Sample Series: \n",
    "#     Original Data Series:\n",
    "# 0       100\n",
    "# 1       200\n",
    "# 2    python\n",
    "# 3    300.12\n",
    "# 4       400\n",
    "# dtype: object\n",
    "# Change the said data type to numeric:\n",
    "# 0    100.00\n",
    "# 1    200.00\n",
    "# 2       NaN\n",
    "# 3    300.12\n",
    "# 4    400.00\n",
    "# dtype: float64"
   ]
  },
  {
   "cell_type": "code",
   "execution_count": 34,
   "id": "cc9337ba",
   "metadata": {},
   "outputs": [
    {
     "data": {
      "text/plain": [
       "0    100.00\n",
       "1    200.00\n",
       "2       NaN\n",
       "3    300.12\n",
       "4    400.00\n",
       "dtype: float64"
      ]
     },
     "execution_count": 34,
     "metadata": {},
     "output_type": "execute_result"
    }
   ],
   "source": [
    "s=pd.Series([100,200,'python',300.12,400])\n",
    "pd.to_numeric(s,errors='coerce')"
   ]
  },
  {
   "cell_type": "markdown",
   "id": "2aa51f28",
   "metadata": {},
   "source": [
    "8. Write a Pandas program to convert the first column of a DataFrame as a Series."
   ]
  },
  {
   "cell_type": "code",
   "execution_count": 39,
   "id": "e1436fca",
   "metadata": {},
   "outputs": [
    {
     "data": {
      "text/plain": [
       "pandas.core.series.Series"
      ]
     },
     "execution_count": 39,
     "metadata": {},
     "output_type": "execute_result"
    }
   ],
   "source": [
    "d = {'col1': [1, 2, 3, 4, 7, 11], 'col2': [4, 5, 6, 9, 5, 0], 'col3': [7, 5, 8, 12, 1,11]}\n",
    "df=pd.DataFrame(d)\n",
    "s=pd.Series(df['col1'])\n",
    "type(s)"
   ]
  },
  {
   "cell_type": "markdown",
   "id": "c9986bd5",
   "metadata": {},
   "source": [
    "9. Write a Pandas program to convert a given Series to an array."
   ]
  },
  {
   "cell_type": "code",
   "execution_count": 41,
   "id": "59a46e55",
   "metadata": {},
   "outputs": [],
   "source": [
    "# Sample Output: \n",
    "# Original Data Series:\n",
    "# 0       100\n",
    "# 1       200\n",
    "# 2    python\n",
    "# 3    300.12\n",
    "# 4       400\n",
    "# dtype: object\n",
    "# Series to an array\n",
    "# ['100' '200' 'python' '300.12' '400']\n",
    "# <class 'numpy.ndarray'>"
   ]
  },
  {
   "cell_type": "code",
   "execution_count": 46,
   "id": "630ab1c0",
   "metadata": {},
   "outputs": [
    {
     "data": {
      "text/plain": [
       "numpy.ndarray"
      ]
     },
     "execution_count": 46,
     "metadata": {},
     "output_type": "execute_result"
    }
   ],
   "source": [
    "s=pd.Series([100,200,'python',300.12,400])\n",
    "a=np.array(s)\n",
    "type(a)"
   ]
  },
  {
   "cell_type": "markdown",
   "id": "069897e0",
   "metadata": {},
   "source": [
    "10. Write a Pandas program to convert Series of lists to one Series."
   ]
  },
  {
   "cell_type": "code",
   "execution_count": 47,
   "id": "071e6ecc",
   "metadata": {},
   "outputs": [],
   "source": [
    "# Sample Output: \n",
    "# Original Series of list\n",
    "# 0    [Red, Green, White]\n",
    "# 1           [Red, Black]\n",
    "# 2               [Yellow]\n",
    "# dtype: object\n",
    "# One Series\n",
    "# 0       Red\n",
    "# 1     Green\n",
    "# 2     White\n",
    "# 3       Red\n",
    "# 4     Black\n",
    "# 5    Yellow\n",
    "# dtype: object"
   ]
  },
  {
   "cell_type": "code",
   "execution_count": 59,
   "id": "e395de1f",
   "metadata": {},
   "outputs": [
    {
     "data": {
      "text/plain": [
       "0       Red\n",
       "1     Green\n",
       "2     White\n",
       "3       Red\n",
       "4     Black\n",
       "5    Yellow\n",
       "dtype: object"
      ]
     },
     "execution_count": 59,
     "metadata": {},
     "output_type": "execute_result"
    }
   ],
   "source": [
    "lst=[[\"Red\", \"Green\", \"White\"],[\"Red\", \"Black\"],[\"Yellow\"]]\n",
    "ser=pd.Series(lst)\n",
    "ser.apply(pd.Series).stack().reset_index(drop=True)"
   ]
  },
  {
   "cell_type": "markdown",
   "id": "a79c9b92",
   "metadata": {},
   "source": [
    "11. Write a Pandas program to sort a given Series."
   ]
  },
  {
   "cell_type": "code",
   "execution_count": 60,
   "id": "3e128735",
   "metadata": {},
   "outputs": [],
   "source": [
    "# Sample Output:\n",
    "# Original Data Series:\n",
    "# 0       100\n",
    "# 1       200\n",
    "# 2    python\n",
    "# 3    300.12\n",
    "# 4       400\n",
    "# dtype: object\n",
    "# 0       100\n",
    "# 1       200\n",
    "# 3    300.12\n",
    "# 4       400\n",
    "# 2    python\n",
    "# dtype: object"
   ]
  },
  {
   "cell_type": "code",
   "execution_count": 76,
   "id": "882163f7",
   "metadata": {},
   "outputs": [
    {
     "name": "stdout",
     "output_type": "stream",
     "text": [
      "Original Data Series:\n",
      "0       100\n",
      "1       200\n",
      "2    python\n",
      "3    300.12\n",
      "4       400\n",
      "dtype: object\n",
      "0       100\n",
      "1       200\n",
      "3    300.12\n",
      "4       400\n",
      "2    python\n",
      "dtype: object\n"
     ]
    }
   ],
   "source": [
    "s = pd.Series(['100', '200', 'python', '300.12', '400'])\n",
    "print(\"Original Data Series:\")\n",
    "print(s)\n",
    "new_s = pd.Series(s).sort_values()\n",
    "print(new_s)"
   ]
  },
  {
   "cell_type": "markdown",
   "id": "e9cb3262",
   "metadata": {},
   "source": [
    "12. Write a Pandas program to add some data to an existing Series.\n"
   ]
  },
  {
   "cell_type": "code",
   "execution_count": 88,
   "id": "68b2b11d",
   "metadata": {},
   "outputs": [
    {
     "data": {
      "text/plain": [
       "0       100\n",
       "1       200\n",
       "2    python\n",
       "3    300.12\n",
       "4       400\n",
       "5       php\n",
       "6       500\n",
       "dtype: object"
      ]
     },
     "execution_count": 88,
     "metadata": {},
     "output_type": "execute_result"
    }
   ],
   "source": [
    "s = pd.Series(['100', '200', 'python', '300.12', '400'])\n",
    "a=pd.Series([\"php\",\"500\"])\n",
    "pd.concat([s,a],ignore_index=True)"
   ]
  },
  {
   "cell_type": "markdown",
   "id": "c1653230",
   "metadata": {},
   "source": [
    "13. Write a Pandas program to create a subset of a given series based on value and condition."
   ]
  },
  {
   "cell_type": "code",
   "execution_count": 93,
   "id": "7ee1788a",
   "metadata": {},
   "outputs": [
    {
     "data": {
      "text/plain": [
       "0    0\n",
       "1    1\n",
       "2    2\n",
       "3    3\n",
       "4    4\n",
       "5    5\n",
       "dtype: int64"
      ]
     },
     "execution_count": 93,
     "metadata": {},
     "output_type": "execute_result"
    }
   ],
   "source": [
    "s = pd.Series([0,1,2,3,4,5,6,7,8,9,10])\n",
    "n=6\n",
    "sub=s[s<n]\n",
    "sub\n"
   ]
  },
  {
   "cell_type": "markdown",
   "id": "4d968719",
   "metadata": {},
   "source": [
    "14. Write a Pandas program to change the order of index of a given series."
   ]
  },
  {
   "cell_type": "code",
   "execution_count": 98,
   "id": "fcfcb032",
   "metadata": {},
   "outputs": [
    {
     "data": {
      "text/plain": [
       "b    2\n",
       "a    1\n",
       "c    3\n",
       "e    5\n",
       "d    4\n",
       "dtype: int64"
      ]
     },
     "execution_count": 98,
     "metadata": {},
     "output_type": "execute_result"
    }
   ],
   "source": [
    "ser=pd.Series(data=[1,2,3,4,5],index=[\"a\",\"b\",\"c\",\"d\",\"e\"])\n",
    "ser.reindex(index=[\"b\",\"a\",\"c\",\"e\",\"d\"])"
   ]
  },
  {
   "cell_type": "markdown",
   "id": "07bef25c",
   "metadata": {},
   "source": [
    "15. Write a Pandas program to create the mean and standard deviation of the data of a given Series."
   ]
  },
  {
   "cell_type": "code",
   "execution_count": 101,
   "id": "d763fbc5",
   "metadata": {},
   "outputs": [
    {
     "data": {
      "text/plain": [
       "3.0276503540974917"
      ]
     },
     "execution_count": 101,
     "metadata": {},
     "output_type": "execute_result"
    }
   ],
   "source": [
    "ser=pd.Series([1,2,3,4,5,6,7,8,9,10])\n",
    "ser.mean()\n",
    "ser.std()"
   ]
  },
  {
   "cell_type": "markdown",
   "id": "b1a0a9f7",
   "metadata": {},
   "source": [
    "16. Write a Pandas program to get the items of a given series not present in another given series."
   ]
  },
  {
   "cell_type": "code",
   "execution_count": 102,
   "id": "76ed26cc",
   "metadata": {},
   "outputs": [],
   "source": [
    "sr1 = pd.Series([1, 2, 3, 4, 5])\n",
    "sr2 = pd.Series([2, 4, 6, 8, 10])"
   ]
  },
  {
   "cell_type": "code",
   "execution_count": 106,
   "id": "f55b53dc",
   "metadata": {},
   "outputs": [
    {
     "data": {
      "text/plain": [
       "0    1\n",
       "2    3\n",
       "4    5\n",
       "dtype: int64"
      ]
     },
     "execution_count": 106,
     "metadata": {},
     "output_type": "execute_result"
    }
   ],
   "source": [
    "sr1[~sr1.isin(sr2)]"
   ]
  },
  {
   "cell_type": "markdown",
   "id": "80ed6d71",
   "metadata": {},
   "source": [
    "17. Write a Pandas program to get the items which are not common of two given series."
   ]
  },
  {
   "cell_type": "code",
   "execution_count": 117,
   "id": "bb7f79a8",
   "metadata": {},
   "outputs": [
    {
     "data": {
      "text/plain": [
       "0     1\n",
       "2     3\n",
       "4     5\n",
       "5     6\n",
       "6     8\n",
       "7    10\n",
       "dtype: int64"
      ]
     },
     "execution_count": 117,
     "metadata": {},
     "output_type": "execute_result"
    }
   ],
   "source": [
    "sr1 = pd.Series([1, 2, 3, 4, 5])\n",
    "sr2 = pd.Series([2, 4, 6, 8, 10])\n",
    "sr3=pd.Series(np.union1d(sr1,sr2))\n",
    "sr4=pd.Series(np.intersect1d(sr1,sr2))\n",
    "sr3[~sr3.isin(sr4)]"
   ]
  },
  {
   "cell_type": "markdown",
   "id": "ff91cf6f",
   "metadata": {},
   "source": [
    "19. Write a Pandas program to calculate the frequency counts of each unique value of a given series."
   ]
  },
  {
   "cell_type": "code",
   "execution_count": 126,
   "id": "50328a08",
   "metadata": {},
   "outputs": [
    {
     "data": {
      "text/plain": [
       "7    8\n",
       "0    6\n",
       "9    5\n",
       "1    4\n",
       "5    4\n",
       "2    4\n",
       "6    4\n",
       "8    3\n",
       "3    1\n",
       "4    1\n",
       "Name: count, dtype: int64"
      ]
     },
     "execution_count": 126,
     "metadata": {},
     "output_type": "execute_result"
    }
   ],
   "source": [
    "num_series = pd.Series(np.take(list('0123456789'), np.random.randint(10, size=40)))\n",
    "num_series.value_counts()"
   ]
  },
  {
   "cell_type": "markdown",
   "id": "a1441c0f",
   "metadata": {},
   "source": [
    "20. Write a Pandas program to display most frequent value in a given series and replace everything else as 'Other' in the series."
   ]
  },
  {
   "cell_type": "code",
   "execution_count": null,
   "id": "ca78584a",
   "metadata": {},
   "outputs": [],
   "source": []
  },
  {
   "cell_type": "code",
   "execution_count": null,
   "id": "432f8659",
   "metadata": {},
   "outputs": [],
   "source": []
  },
  {
   "cell_type": "markdown",
   "id": "360221a9",
   "metadata": {},
   "source": [
    "21. Write a Pandas program to find the positions of numbers that are multiples of 5 of a given series."
   ]
  },
  {
   "cell_type": "code",
   "execution_count": 134,
   "id": "c3d2453e",
   "metadata": {},
   "outputs": [
    {
     "name": "stdout",
     "output_type": "stream",
     "text": [
      "0    5\n",
      "1    6\n",
      "2    9\n",
      "3    9\n",
      "4    3\n",
      "5    5\n",
      "6    3\n",
      "7    8\n",
      "8    2\n",
      "dtype: int32\n"
     ]
    },
    {
     "data": {
      "text/plain": [
       "(array([0, 5], dtype=int64),)"
      ]
     },
     "execution_count": 134,
     "metadata": {},
     "output_type": "execute_result"
    }
   ],
   "source": [
    "num_series = pd.Series(np.random.randint(1, 10, 9))\n",
    "print(num_series)\n",
    "np.where(num_series%5==0)"
   ]
  },
  {
   "cell_type": "markdown",
   "id": "222043a0",
   "metadata": {},
   "source": [
    "22. Write a Pandas program to extract items at given positions of a given series."
   ]
  },
  {
   "cell_type": "code",
   "execution_count": 138,
   "id": "e032f228",
   "metadata": {},
   "outputs": [
    {
     "data": {
      "text/plain": [
       "0     2\n",
       "2     9\n",
       "6     8\n",
       "11    0\n",
       "21    3\n",
       "dtype: object"
      ]
     },
     "execution_count": 138,
     "metadata": {},
     "output_type": "execute_result"
    }
   ],
   "source": [
    "# Sample Output:  \n",
    "# Original Series:\n",
    "# 0     2\n",
    "# 1     3\n",
    "# 2     9\n",
    "# 3     0\n",
    "# 4     2\n",
    "# 5     3\n",
    "# ...\n",
    "\n",
    "# 19    0\n",
    "# 20    2 \n",
    "# 21    3\n",
    "# dtype: object\n",
    "\n",
    "# Extract items at given positions of the said series: \n",
    "# 0     2\n",
    "# 2     9\n",
    "# 6     8\n",
    "# 11    0\n",
    "# 21    3\n",
    "# dtype: object\n",
    "num_series = pd.Series(list('2390238923902390239023'))\n",
    "given_pos=pd.Series([0,2,6,11,21])\n",
    "num_series.take(given_pos)"
   ]
  },
  {
   "cell_type": "markdown",
   "id": "6dab7b65",
   "metadata": {},
   "source": [
    "23. Write a Pandas program to get the positions of items of a given series in another given series"
   ]
  },
  {
   "cell_type": "code",
   "execution_count": 139,
   "id": "bad37e05",
   "metadata": {},
   "outputs": [],
   "source": [
    "# Sample Output:  \n",
    "# Original Series:\n",
    "# 0     1\n",
    "# 1     2\n",
    "# 2     3\n",
    "# 3     4\n",
    "# 4     5\n",
    "# 5     6\n",
    "# 6     7\n",
    "# 7     8\n",
    "# 8     9\n",
    "# 9    10\n",
    "# dtype: int64\n",
    "# 0     1\n",
    "# 1     3\n",
    "# 2     5\n",
    "# 3     7\n",
    "# 4    10\n",
    "# dtype: int64\n",
    "# Positions of items of series2 in series1:\n",
    "# [0, 2, 4, 6, 9]"
   ]
  },
  {
   "cell_type": "markdown",
   "id": "344db6d9",
   "metadata": {},
   "source": [
    "24. Write a Pandas program convert the first and last character of each word to upper case in each word of a given series."
   ]
  },
  {
   "cell_type": "code",
   "execution_count": 140,
   "id": "ac15562e",
   "metadata": {},
   "outputs": [],
   "source": [
    "series1 = pd.Series(['php', 'python', 'java', 'c#'])"
   ]
  },
  {
   "cell_type": "code",
   "execution_count": 141,
   "id": "0b98b390",
   "metadata": {},
   "outputs": [
    {
     "data": {
      "text/plain": [
       "0       PhP\n",
       "1    PythoN\n",
       "2      JavA\n",
       "3        C#\n",
       "dtype: object"
      ]
     },
     "execution_count": 141,
     "metadata": {},
     "output_type": "execute_result"
    }
   ],
   "source": [
    "series1.map(lambda x:x[0].upper()+x[1:-1]+x[-1].upper())"
   ]
  },
  {
   "cell_type": "markdown",
   "id": "8ca78bcb",
   "metadata": {},
   "source": [
    "25. Write a Pandas program to calculate the number of characters in each word in a given series."
   ]
  },
  {
   "cell_type": "code",
   "execution_count": 143,
   "id": "c512bc9c",
   "metadata": {},
   "outputs": [
    {
     "data": {
      "text/plain": [
       "0    3\n",
       "1    6\n",
       "2    4\n",
       "3    2\n",
       "dtype: int64"
      ]
     },
     "execution_count": 143,
     "metadata": {},
     "output_type": "execute_result"
    }
   ],
   "source": [
    "series1 = pd.Series(['php', 'python', 'java', 'c#'])\n",
    "series1.map(lambda x:len(x))"
   ]
  },
  {
   "cell_type": "markdown",
   "id": "b8e8826d",
   "metadata": {},
   "source": [
    "26. Write a Pandas program to compute difference of differences between consecutive numbers of a given series."
   ]
  },
  {
   "cell_type": "code",
   "execution_count": null,
   "id": "ce8ccd02",
   "metadata": {},
   "outputs": [],
   "source": []
  },
  {
   "cell_type": "markdown",
   "id": "33266b4d",
   "metadata": {},
   "source": [
    "27. Write a Pandas program to convert a series of date strings to a timeseries."
   ]
  },
  {
   "cell_type": "code",
   "execution_count": 151,
   "id": "000e28f2",
   "metadata": {},
   "outputs": [
    {
     "data": {
      "text/plain": [
       "0   2015-01-01 00:00:00\n",
       "1   2016-10-02 00:00:00\n",
       "2   2018-03-07 00:00:00\n",
       "3   2014-05-06 00:00:00\n",
       "4   2016-04-12 00:00:00\n",
       "5   2019-04-06 11:20:00\n",
       "dtype: datetime64[ns]"
      ]
     },
     "execution_count": 151,
     "metadata": {},
     "output_type": "execute_result"
    }
   ],
   "source": [
    "date_series = pd.Series(['01 Jan 2015', '10-02-2016', '20180307', '2014/05/06', '2016-04-12', '2019-04-06T11:20'])\n",
    "date_series\n",
    "pd.to_datetime(date_series,format='mixed')"
   ]
  },
  {
   "cell_type": "markdown",
   "id": "aeb41c11",
   "metadata": {},
   "source": [
    "28. Write a Pandas program to get the day of month, day of year, week number and day of week from a given series of date strings."
   ]
  },
  {
   "cell_type": "code",
   "execution_count": 186,
   "id": "c7393410",
   "metadata": {},
   "outputs": [
    {
     "data": {
      "text/plain": [
       "[3, 6, 2, 1, 1, 5]"
      ]
     },
     "execution_count": 186,
     "metadata": {},
     "output_type": "execute_result"
    }
   ],
   "source": [
    "from dateutil.parser import parse\n",
    "date_series = pd.Series(['01 Jan 2015', '10-02-2016', '20180307', '2014/05/06', '2016-04-12', '2019-04-06T11:20'])\n",
    "date_series=date_series.map(lambda x:parse(x))\n",
    "dateseries.dt.day.to_list()\n",
    "date_series.dt.dayofyear.to_list()\n",
    "date_series.dt.dayofweek.to_list()\n",
    "# print(date_series.dt.weekday_name.tolist())"
   ]
  },
  {
   "cell_type": "markdown",
   "id": "e7fd4875",
   "metadata": {},
   "source": [
    "29. Write a Pandas program to convert year-month string to dates adding a specified day of the month."
   ]
  },
  {
   "cell_type": "code",
   "execution_count": 197,
   "id": "49a1b234",
   "metadata": {},
   "outputs": [
    {
     "data": {
      "text/plain": [
       "0   2015-01-11\n",
       "1   2016-02-11\n",
       "2   2017-03-11\n",
       "3   2018-04-11\n",
       "4   2019-05-11\n",
       "dtype: datetime64[ns]"
      ]
     },
     "execution_count": 197,
     "metadata": {},
     "output_type": "execute_result"
    }
   ],
   "source": [
    "date_series = pd.Series(['Jan 2015', 'Feb 2016', 'Mar 2017', 'Apr 2018', 'May 2019'])\n",
    "date_series.map(lambda x:parse('11'+x))"
   ]
  },
  {
   "cell_type": "markdown",
   "id": "08b24ad1",
   "metadata": {},
   "source": [
    "30. Write a Pandas program to filter words from a given series that contain atleast two vowels."
   ]
  },
  {
   "cell_type": "code",
   "execution_count": 198,
   "id": "9c75af4e",
   "metadata": {},
   "outputs": [],
   "source": [
    "color_series = pd.Series(['Red', 'Green', 'Orange', 'Pink', 'Yellow', 'White'])\n"
   ]
  },
  {
   "cell_type": "markdown",
   "id": "3d151657",
   "metadata": {},
   "source": [
    "31. Write a Pandas program to compute the Euclidean distance between two given series.\n",
    "Euclidean distance\n",
    "From Wikipedia,\n",
    "In mathematics, the Euclidean distance or Euclidean metric is the \"ordinary\" straight-line distance between two points in Euclidean space. With this distance, Euclidean space becomes a metric space. The associated norm is called the Euclidean norm."
   ]
  },
  {
   "cell_type": "code",
   "execution_count": 207,
   "id": "da0e8422",
   "metadata": {},
   "outputs": [],
   "source": [
    "x = pd.Series([1, 2, 3, 4, 5, 6, 7, 8, 9, 10])\n",
    "y = pd.Series([11, 8, 7, 5, 6, 5, 3, 4, 7, 1])\n",
    "\n",
    "def  Euclidean_distance(x,y):\n",
    "    sm=0;\n",
    "    for i in range(len(x)):\n",
    "        sm+=(x[i]-y[i])**2\n",
    "    return sm"
   ]
  },
  {
   "cell_type": "code",
   "execution_count": 211,
   "id": "ed20bddf",
   "metadata": {},
   "outputs": [
    {
     "data": {
      "text/plain": [
       "16.492422502470642"
      ]
     },
     "execution_count": 211,
     "metadata": {},
     "output_type": "execute_result"
    }
   ],
   "source": [
    "np.sqrt(Euclidean_distance(x,y))"
   ]
  },
  {
   "cell_type": "code",
   "execution_count": 217,
   "id": "463835ef",
   "metadata": {},
   "outputs": [
    {
     "name": "stdout",
     "output_type": "stream",
     "text": [
      "16.492422502470642\n"
     ]
    }
   ],
   "source": [
    "print(np.linalg.norm(x-y))"
   ]
  },
  {
   "cell_type": "code",
   "execution_count": null,
   "id": "f126b085",
   "metadata": {},
   "outputs": [],
   "source": []
  },
  {
   "cell_type": "code",
   "execution_count": null,
   "id": "fb81dfdf",
   "metadata": {},
   "outputs": [],
   "source": []
  },
  {
   "cell_type": "markdown",
   "id": "30fbca73",
   "metadata": {},
   "source": [
    "35. Write a Pandas program to create a TimeSeries to display all the Sundays of given year."
   ]
  },
  {
   "cell_type": "code",
   "execution_count": 245,
   "id": "8e4af4e9",
   "metadata": {},
   "outputs": [
    {
     "data": {
      "text/plain": [
       "0    2020-01-05\n",
       "1    2020-01-12\n",
       "2    2020-01-19\n",
       "3    2020-01-26\n",
       "4    2020-02-02\n",
       "5    2020-02-09\n",
       "6    2020-02-16\n",
       "7    2020-02-23\n",
       "8    2020-03-01\n",
       "9    2020-03-08\n",
       "10   2020-03-15\n",
       "11   2020-03-22\n",
       "12   2020-03-29\n",
       "13   2020-04-05\n",
       "14   2020-04-12\n",
       "15   2020-04-19\n",
       "16   2020-04-26\n",
       "17   2020-05-03\n",
       "18   2020-05-10\n",
       "19   2020-05-17\n",
       "20   2020-05-24\n",
       "21   2020-05-31\n",
       "22   2020-06-07\n",
       "23   2020-06-14\n",
       "24   2020-06-21\n",
       "25   2020-06-28\n",
       "26   2020-07-05\n",
       "27   2020-07-12\n",
       "28   2020-07-19\n",
       "29   2020-07-26\n",
       "30   2020-08-02\n",
       "31   2020-08-09\n",
       "32   2020-08-16\n",
       "33   2020-08-23\n",
       "34   2020-08-30\n",
       "35   2020-09-06\n",
       "36   2020-09-13\n",
       "37   2020-09-20\n",
       "38   2020-09-27\n",
       "39   2020-10-04\n",
       "40   2020-10-11\n",
       "41   2020-10-18\n",
       "42   2020-10-25\n",
       "43   2020-11-01\n",
       "44   2020-11-08\n",
       "45   2020-11-15\n",
       "46   2020-11-22\n",
       "47   2020-11-29\n",
       "48   2020-12-06\n",
       "49   2020-12-13\n",
       "50   2020-12-20\n",
       "51   2020-12-27\n",
       "dtype: datetime64[ns]"
      ]
     },
     "execution_count": 245,
     "metadata": {},
     "output_type": "execute_result"
    }
   ],
   "source": [
    "result = pd.Series(pd.date_range('2020-01-01', periods=52, freq='W-SUN'))\n",
    "result"
   ]
  },
  {
   "cell_type": "code",
   "execution_count": null,
   "id": "9edf5c95",
   "metadata": {},
   "outputs": [],
   "source": [
    "36. Write a Pandas program to convert given series into a dataframe with its index as another column on the dataframe."
   ]
  },
  {
   "cell_type": "code",
   "execution_count": 243,
   "id": "5149b013",
   "metadata": {},
   "outputs": [
    {
     "data": {
      "text/html": [
       "<div>\n",
       "<style scoped>\n",
       "    .dataframe tbody tr th:only-of-type {\n",
       "        vertical-align: middle;\n",
       "    }\n",
       "\n",
       "    .dataframe tbody tr th {\n",
       "        vertical-align: top;\n",
       "    }\n",
       "\n",
       "    .dataframe thead th {\n",
       "        text-align: right;\n",
       "    }\n",
       "</style>\n",
       "<table border=\"1\" class=\"dataframe\">\n",
       "  <thead>\n",
       "    <tr style=\"text-align: right;\">\n",
       "      <th></th>\n",
       "      <th>index</th>\n",
       "      <th>0</th>\n",
       "    </tr>\n",
       "  </thead>\n",
       "  <tbody>\n",
       "    <tr>\n",
       "      <th>0</th>\n",
       "      <td>A</td>\n",
       "      <td>0</td>\n",
       "    </tr>\n",
       "    <tr>\n",
       "      <th>1</th>\n",
       "      <td>B</td>\n",
       "      <td>1</td>\n",
       "    </tr>\n",
       "    <tr>\n",
       "      <th>2</th>\n",
       "      <td>C</td>\n",
       "      <td>2</td>\n",
       "    </tr>\n",
       "    <tr>\n",
       "      <th>3</th>\n",
       "      <td>D</td>\n",
       "      <td>3</td>\n",
       "    </tr>\n",
       "    <tr>\n",
       "      <th>4</th>\n",
       "      <td>E</td>\n",
       "      <td>4</td>\n",
       "    </tr>\n",
       "    <tr>\n",
       "      <th>5</th>\n",
       "      <td>F</td>\n",
       "      <td>5</td>\n",
       "    </tr>\n",
       "    <tr>\n",
       "      <th>6</th>\n",
       "      <td>G</td>\n",
       "      <td>6</td>\n",
       "    </tr>\n",
       "    <tr>\n",
       "      <th>7</th>\n",
       "      <td>H</td>\n",
       "      <td>7</td>\n",
       "    </tr>\n",
       "  </tbody>\n",
       "</table>\n",
       "</div>"
      ],
      "text/plain": [
       "  index  0\n",
       "0     A  0\n",
       "1     B  1\n",
       "2     C  2\n",
       "3     D  3\n",
       "4     E  4\n",
       "5     F  5\n",
       "6     G  6\n",
       "7     H  7"
      ]
     },
     "execution_count": 243,
     "metadata": {},
     "output_type": "execute_result"
    }
   ],
   "source": [
    "char_list = list('ABCDEFGHIJKLMNOP')\n",
    "num_arra = np.arange(8)\n",
    "dic=dict(zip(char_list,num_arra))\n",
    "ser=pd.Series(dic)\n",
    "pd.DataFrame(ser).reset_index()"
   ]
  },
  {
   "cell_type": "markdown",
   "id": "4d881011",
   "metadata": {},
   "source": [
    "37. Write a Pandas program to stack two given series vertically and horizontally."
   ]
  },
  {
   "cell_type": "code",
   "execution_count": 221,
   "id": "2697a1d3",
   "metadata": {},
   "outputs": [],
   "source": [
    "nums1 = pd.Series([1, 8, 7, 5, 6, 5, 3, 4, 7, 1])\n",
    "nums2 = pd.Series([1, 8, 7, 5, 6, 5, 3, 4, 7, 1])"
   ]
  },
  {
   "cell_type": "code",
   "execution_count": 230,
   "id": "5a202924",
   "metadata": {},
   "outputs": [
    {
     "data": {
      "text/html": [
       "<div>\n",
       "<style scoped>\n",
       "    .dataframe tbody tr th:only-of-type {\n",
       "        vertical-align: middle;\n",
       "    }\n",
       "\n",
       "    .dataframe tbody tr th {\n",
       "        vertical-align: top;\n",
       "    }\n",
       "\n",
       "    .dataframe thead th {\n",
       "        text-align: right;\n",
       "    }\n",
       "</style>\n",
       "<table border=\"1\" class=\"dataframe\">\n",
       "  <thead>\n",
       "    <tr style=\"text-align: right;\">\n",
       "      <th></th>\n",
       "      <th>0</th>\n",
       "      <th>1</th>\n",
       "    </tr>\n",
       "  </thead>\n",
       "  <tbody>\n",
       "    <tr>\n",
       "      <th>0</th>\n",
       "      <td>1</td>\n",
       "      <td>1</td>\n",
       "    </tr>\n",
       "    <tr>\n",
       "      <th>1</th>\n",
       "      <td>8</td>\n",
       "      <td>8</td>\n",
       "    </tr>\n",
       "    <tr>\n",
       "      <th>2</th>\n",
       "      <td>7</td>\n",
       "      <td>7</td>\n",
       "    </tr>\n",
       "    <tr>\n",
       "      <th>3</th>\n",
       "      <td>5</td>\n",
       "      <td>5</td>\n",
       "    </tr>\n",
       "    <tr>\n",
       "      <th>4</th>\n",
       "      <td>6</td>\n",
       "      <td>6</td>\n",
       "    </tr>\n",
       "    <tr>\n",
       "      <th>5</th>\n",
       "      <td>5</td>\n",
       "      <td>5</td>\n",
       "    </tr>\n",
       "    <tr>\n",
       "      <th>6</th>\n",
       "      <td>3</td>\n",
       "      <td>3</td>\n",
       "    </tr>\n",
       "    <tr>\n",
       "      <th>7</th>\n",
       "      <td>4</td>\n",
       "      <td>4</td>\n",
       "    </tr>\n",
       "    <tr>\n",
       "      <th>8</th>\n",
       "      <td>7</td>\n",
       "      <td>7</td>\n",
       "    </tr>\n",
       "    <tr>\n",
       "      <th>9</th>\n",
       "      <td>1</td>\n",
       "      <td>1</td>\n",
       "    </tr>\n",
       "  </tbody>\n",
       "</table>\n",
       "</div>"
      ],
      "text/plain": [
       "   0  1\n",
       "0  1  1\n",
       "1  8  8\n",
       "2  7  7\n",
       "3  5  5\n",
       "4  6  6\n",
       "5  5  5\n",
       "6  3  3\n",
       "7  4  4\n",
       "8  7  7\n",
       "9  1  1"
      ]
     },
     "execution_count": 230,
     "metadata": {},
     "output_type": "execute_result"
    }
   ],
   "source": [
    "pd.concat([nums1,nums2],axis=0)\n",
    "pd.concat([nums1,nums2],axis=1)"
   ]
  },
  {
   "cell_type": "markdown",
   "id": "0221eab8",
   "metadata": {},
   "source": [
    "38. Write a Pandas program to check the equality of two given series.\n"
   ]
  },
  {
   "cell_type": "code",
   "execution_count": 220,
   "id": "ca5c11d5",
   "metadata": {},
   "outputs": [
    {
     "data": {
      "text/plain": [
       "0    True\n",
       "1    True\n",
       "2    True\n",
       "3    True\n",
       "4    True\n",
       "5    True\n",
       "6    True\n",
       "7    True\n",
       "8    True\n",
       "9    True\n",
       "dtype: bool"
      ]
     },
     "execution_count": 220,
     "metadata": {},
     "output_type": "execute_result"
    }
   ],
   "source": [
    "nums1 = pd.Series([1, 8, 7, 5, 6, 5, 3, 4, 7, 1])\n",
    "nums2 = pd.Series([1, 8, 7, 5, 6, 5, 3, 4, 7, 1])\n",
    "nums1==nums2"
   ]
  },
  {
   "cell_type": "markdown",
   "id": "20212d2f",
   "metadata": {},
   "source": [
    "39. Write a Pandas program to find the index of the first occurrence of the smallest and largest value of a given series."
   ]
  },
  {
   "cell_type": "code",
   "execution_count": 219,
   "id": "7122207e",
   "metadata": {},
   "outputs": [
    {
     "data": {
      "text/plain": [
       "4"
      ]
     },
     "execution_count": 219,
     "metadata": {},
     "output_type": "execute_result"
    }
   ],
   "source": [
    "nums = pd.Series([1, 3, 7, 12, 88, 23, 3, 1, 9, 0])\n",
    "nums.idxmin()\n",
    "nums.idxmax()"
   ]
  },
  {
   "cell_type": "markdown",
   "id": "31bcb867",
   "metadata": {},
   "source": [
    "40. Write a Pandas program to check inequality over the index axis of a given dataframe and a given series"
   ]
  },
  {
   "cell_type": "code",
   "execution_count": 212,
   "id": "4097eca8",
   "metadata": {},
   "outputs": [],
   "source": [
    "# Sample Output: \n",
    "# Original DataFrame:\n",
    "#       W     X   Y   Z\n",
    "# 0  68.0  78.0  84  86\n",
    "# 1  75.0  75.0  94  97\n",
    "# 2  86.0   NaN  89  96\n",
    "# 3  80.0  80.0  86  72\n",
    "# 4   NaN  86.0  86  83\n",
    "\n",
    "# Original Series:\n",
    "# 0    68.0\n",
    "# 1    75.0\n",
    "# 2    86.0\n",
    "# 3    80.0\n",
    "# 4     NaN\n",
    "# dtype: float64\n",
    "\n",
    "# Check for inequality of the said series & dataframe:\n",
    "#        W      X     Y     Z\n",
    "# 0  False   True  True  True\n",
    "# 1  False  False  True  True\n",
    "# 2  False   True  True  True\n",
    "# 3  False  False  True  True\n",
    "# 4   True   True  True  True"
   ]
  },
  {
   "cell_type": "code",
   "execution_count": 216,
   "id": "766038e5",
   "metadata": {},
   "outputs": [
    {
     "data": {
      "text/html": [
       "<div>\n",
       "<style scoped>\n",
       "    .dataframe tbody tr th:only-of-type {\n",
       "        vertical-align: middle;\n",
       "    }\n",
       "\n",
       "    .dataframe tbody tr th {\n",
       "        vertical-align: top;\n",
       "    }\n",
       "\n",
       "    .dataframe thead th {\n",
       "        text-align: right;\n",
       "    }\n",
       "</style>\n",
       "<table border=\"1\" class=\"dataframe\">\n",
       "  <thead>\n",
       "    <tr style=\"text-align: right;\">\n",
       "      <th></th>\n",
       "      <th>W</th>\n",
       "      <th>X</th>\n",
       "      <th>Y</th>\n",
       "      <th>Z</th>\n",
       "    </tr>\n",
       "  </thead>\n",
       "  <tbody>\n",
       "    <tr>\n",
       "      <th>0</th>\n",
       "      <td>68.0</td>\n",
       "      <td>NaN</td>\n",
       "      <td>NaN</td>\n",
       "      <td>NaN</td>\n",
       "    </tr>\n",
       "    <tr>\n",
       "      <th>1</th>\n",
       "      <td>75.0</td>\n",
       "      <td>75.0</td>\n",
       "      <td>NaN</td>\n",
       "      <td>NaN</td>\n",
       "    </tr>\n",
       "    <tr>\n",
       "      <th>2</th>\n",
       "      <td>86.0</td>\n",
       "      <td>NaN</td>\n",
       "      <td>NaN</td>\n",
       "      <td>NaN</td>\n",
       "    </tr>\n",
       "    <tr>\n",
       "      <th>3</th>\n",
       "      <td>80.0</td>\n",
       "      <td>80.0</td>\n",
       "      <td>NaN</td>\n",
       "      <td>NaN</td>\n",
       "    </tr>\n",
       "    <tr>\n",
       "      <th>4</th>\n",
       "      <td>NaN</td>\n",
       "      <td>NaN</td>\n",
       "      <td>NaN</td>\n",
       "      <td>NaN</td>\n",
       "    </tr>\n",
       "  </tbody>\n",
       "</table>\n",
       "</div>"
      ],
      "text/plain": [
       "      W     X   Y   Z\n",
       "0  68.0   NaN NaN NaN\n",
       "1  75.0  75.0 NaN NaN\n",
       "2  86.0   NaN NaN NaN\n",
       "3  80.0  80.0 NaN NaN\n",
       "4   NaN   NaN NaN NaN"
      ]
     },
     "execution_count": 216,
     "metadata": {},
     "output_type": "execute_result"
    }
   ],
   "source": [
    "df_data = pd.DataFrame({'W':[68,75,86,80,None],'X':[78,75,None,80,86], 'Y':[84,94,89,86,86],'Z':[86,97,96,72,83]});\n",
    "sr_data = pd.Series([68, 75, 86, 80, None]) \n",
    "df_data[~df_data.ne(sr_data,axis=0)]"
   ]
  },
  {
   "cell_type": "code",
   "execution_count": null,
   "id": "93b35b8b",
   "metadata": {},
   "outputs": [],
   "source": []
  }
 ],
 "metadata": {
  "kernelspec": {
   "display_name": "Python 3 (ipykernel)",
   "language": "python",
   "name": "python3"
  },
  "language_info": {
   "codemirror_mode": {
    "name": "ipython",
    "version": 3
   },
   "file_extension": ".py",
   "mimetype": "text/x-python",
   "name": "python",
   "nbconvert_exporter": "python",
   "pygments_lexer": "ipython3",
   "version": "3.11.5"
  }
 },
 "nbformat": 4,
 "nbformat_minor": 5
}
