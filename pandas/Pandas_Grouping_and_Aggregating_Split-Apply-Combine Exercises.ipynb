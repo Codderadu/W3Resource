{
 "cells": [
  {
   "cell_type": "code",
   "execution_count": 1,
   "id": "84c09840",
   "metadata": {},
   "outputs": [],
   "source": [
    "import numpy as np\n",
    "import pandas as pd"
   ]
  },
  {
   "cell_type": "markdown",
   "id": "81fd62dc",
   "metadata": {},
   "source": [
    "1. Write a Pandas program to split the following dataframe into groups based on school code. Also check the type of GroupBy object."
   ]
  },
  {
   "cell_type": "code",
   "execution_count": 2,
   "id": "727fe7d4",
   "metadata": {},
   "outputs": [],
   "source": [
    "student_data = pd.DataFrame({\n",
    "    'school_code': ['s001','s002','s003','s001','s002','s004'],\n",
    "    'class': ['V', 'V', 'VI', 'VI', 'V', 'VI'],\n",
    "    'name': ['Alberto Franco','Gino Mcneill','Ryan Parkes', 'Eesha Hinton', 'Gino Mcneill', 'David Parkes'],\n",
    "    'date_Of_Birth ': ['15/05/2002','17/05/2002','16/02/1999','25/09/1998','11/05/2002','15/09/1997'],\n",
    "    'age': [12, 12, 13, 13, 14, 12],\n",
    "    'height': [173, 192, 186, 167, 151, 159],\n",
    "    'weight': [35, 32, 33, 30, 31, 32],\n",
    "    'address': ['street1', 'street2', 'street3', 'street1', 'street2', 'street4']},\n",
    "    index=['S1', 'S2', 'S3', 'S4', 'S5', 'S6'])"
   ]
  },
  {
   "cell_type": "code",
   "execution_count": 6,
   "id": "e373eda8",
   "metadata": {},
   "outputs": [
    {
     "name": "stdout",
     "output_type": "stream",
     "text": [
      "s001\n",
      "   school_code class            name date_Of_Birth   age  height  weight  \\\n",
      "S1        s001     V  Alberto Franco     15/05/2002   12     173      35   \n",
      "S4        s001    VI    Eesha Hinton     25/09/1998   13     167      30   \n",
      "\n",
      "    address  \n",
      "S1  street1  \n",
      "S4  street1  \n",
      "s002\n",
      "   school_code class          name date_Of_Birth   age  height  weight  \\\n",
      "S2        s002     V  Gino Mcneill     17/05/2002   12     192      32   \n",
      "S5        s002     V  Gino Mcneill     11/05/2002   14     151      31   \n",
      "\n",
      "    address  \n",
      "S2  street2  \n",
      "S5  street2  \n",
      "s003\n",
      "   school_code class         name date_Of_Birth   age  height  weight  address\n",
      "S3        s003    VI  Ryan Parkes     16/02/1999   13     186      33  street3\n",
      "s004\n",
      "   school_code class          name date_Of_Birth   age  height  weight  \\\n",
      "S6        s004    VI  David Parkes     15/09/1997   12     159      32   \n",
      "\n",
      "    address  \n",
      "S6  street4  \n",
      "<class 'pandas.core.groupby.generic.DataFrameGroupBy'>\n"
     ]
    }
   ],
   "source": [
    "result=student_data.groupby(\"school_code\")\n",
    "for name,group in result:\n",
    "    print(name)\n",
    "    print(group)\n",
    "print(type(result))"
   ]
  },
  {
   "cell_type": "markdown",
   "id": "e1500e85",
   "metadata": {},
   "source": [
    "2. Write a Pandas program to split the following dataframe by school code and get mean, min, and max value of age for each school."
   ]
  },
  {
   "cell_type": "code",
   "execution_count": 12,
   "id": "494a70c7",
   "metadata": {},
   "outputs": [
    {
     "data": {
      "text/html": [
       "<div>\n",
       "<style scoped>\n",
       "    .dataframe tbody tr th:only-of-type {\n",
       "        vertical-align: middle;\n",
       "    }\n",
       "\n",
       "    .dataframe tbody tr th {\n",
       "        vertical-align: top;\n",
       "    }\n",
       "\n",
       "    .dataframe thead th {\n",
       "        text-align: right;\n",
       "    }\n",
       "</style>\n",
       "<table border=\"1\" class=\"dataframe\">\n",
       "  <thead>\n",
       "    <tr style=\"text-align: right;\">\n",
       "      <th></th>\n",
       "      <th>mean</th>\n",
       "      <th>min</th>\n",
       "      <th>max</th>\n",
       "    </tr>\n",
       "    <tr>\n",
       "      <th>school_code</th>\n",
       "      <th></th>\n",
       "      <th></th>\n",
       "      <th></th>\n",
       "    </tr>\n",
       "  </thead>\n",
       "  <tbody>\n",
       "    <tr>\n",
       "      <th>s001</th>\n",
       "      <td>12.5</td>\n",
       "      <td>12</td>\n",
       "      <td>13</td>\n",
       "    </tr>\n",
       "    <tr>\n",
       "      <th>s002</th>\n",
       "      <td>13.0</td>\n",
       "      <td>12</td>\n",
       "      <td>14</td>\n",
       "    </tr>\n",
       "    <tr>\n",
       "      <th>s003</th>\n",
       "      <td>13.0</td>\n",
       "      <td>13</td>\n",
       "      <td>13</td>\n",
       "    </tr>\n",
       "    <tr>\n",
       "      <th>s004</th>\n",
       "      <td>12.0</td>\n",
       "      <td>12</td>\n",
       "      <td>12</td>\n",
       "    </tr>\n",
       "  </tbody>\n",
       "</table>\n",
       "</div>"
      ],
      "text/plain": [
       "             mean  min  max\n",
       "school_code                \n",
       "s001         12.5   12   13\n",
       "s002         13.0   12   14\n",
       "s003         13.0   13   13\n",
       "s004         12.0   12   12"
      ]
     },
     "execution_count": 12,
     "metadata": {},
     "output_type": "execute_result"
    }
   ],
   "source": [
    "student_data.groupby(\"school_code\")[\"age\"].agg([\"mean\",\"min\",\"max\"])"
   ]
  },
  {
   "cell_type": "markdown",
   "id": "c34ac993",
   "metadata": {},
   "source": [
    "3. Write a Pandas program to split the following given dataframe into groups based on school code and class."
   ]
  },
  {
   "cell_type": "code",
   "execution_count": 14,
   "id": "782e788c",
   "metadata": {},
   "outputs": [
    {
     "data": {
      "text/plain": [
       "school_code  class\n",
       "s001         V        12\n",
       "             VI       13\n",
       "s002         V        14\n",
       "s003         VI       13\n",
       "s004         VI       12\n",
       "Name: age, dtype: int64"
      ]
     },
     "execution_count": 14,
     "metadata": {},
     "output_type": "execute_result"
    }
   ],
   "source": [
    "student_data.groupby([\"school_code\",\"class\"])[\"age\"].max()"
   ]
  },
  {
   "cell_type": "markdown",
   "id": "66c1b90f",
   "metadata": {},
   "source": [
    "4. Write a Pandas program to split the following given dataframe into groups based on school code and cast grouping as a list.\n"
   ]
  },
  {
   "cell_type": "code",
   "execution_count": 19,
   "id": "f300a6f3",
   "metadata": {},
   "outputs": [
    {
     "name": "stdout",
     "output_type": "stream",
     "text": [
      "[('s001',    school_code class            name date_Of_Birth   age  height  weight  \\\n",
      "S1        s001     V  Alberto Franco     15/05/2002   12     173      35   \n",
      "S4        s001    VI    Eesha Hinton     25/09/1998   13     167      30   \n",
      "\n",
      "    address  \n",
      "S1  street1  \n",
      "S4  street1  ), ('s002',    school_code class          name date_Of_Birth   age  height  weight  \\\n",
      "S2        s002     V  Gino Mcneill     17/05/2002   12     192      32   \n",
      "S5        s002     V  Gino Mcneill     11/05/2002   14     151      31   \n",
      "\n",
      "    address  \n",
      "S2  street2  \n",
      "S5  street2  ), ('s003',    school_code class         name date_Of_Birth   age  height  weight  address\n",
      "S3        s003    VI  Ryan Parkes     16/02/1999   13     186      33  street3), ('s004',    school_code class          name date_Of_Birth   age  height  weight  \\\n",
      "S6        s004    VI  David Parkes     15/09/1997   12     159      32   \n",
      "\n",
      "    address  \n",
      "S6  street4  )]\n"
     ]
    }
   ],
   "source": [
    "result=student_data.groupby(\"school_code\")\n",
    "print(list(result))"
   ]
  },
  {
   "cell_type": "markdown",
   "id": "8bc61dad",
   "metadata": {},
   "source": [
    "5. Write a Pandas program to split the following given dataframe into groups based on single column and multiple columns. Find the size of the grouped data."
   ]
  },
  {
   "cell_type": "code",
   "execution_count": 22,
   "id": "c83fa19c",
   "metadata": {},
   "outputs": [
    {
     "data": {
      "text/plain": [
       "school_code\n",
       "s001    2\n",
       "s002    2\n",
       "s003    1\n",
       "s004    1\n",
       "dtype: int64"
      ]
     },
     "execution_count": 22,
     "metadata": {},
     "output_type": "execute_result"
    }
   ],
   "source": [
    "student_data.groupby(\"school_code\").size()"
   ]
  },
  {
   "cell_type": "code",
   "execution_count": 23,
   "id": "6a55aaa5",
   "metadata": {},
   "outputs": [
    {
     "data": {
      "text/plain": [
       "school_code  class\n",
       "s001         V        1\n",
       "             VI       1\n",
       "s002         V        2\n",
       "s003         VI       1\n",
       "s004         VI       1\n",
       "dtype: int64"
      ]
     },
     "execution_count": 23,
     "metadata": {},
     "output_type": "execute_result"
    }
   ],
   "source": [
    "student_data.groupby([\"school_code\",\"class\"]).size()"
   ]
  },
  {
   "cell_type": "markdown",
   "id": "e7b91602",
   "metadata": {},
   "source": [
    "6. Write a Pandas program to split the following given dataframe into groups based on school code and call a specific group with the name of the group."
   ]
  },
  {
   "cell_type": "code",
   "execution_count": 25,
   "id": "5150bcfa",
   "metadata": {},
   "outputs": [
    {
     "data": {
      "text/html": [
       "<div>\n",
       "<style scoped>\n",
       "    .dataframe tbody tr th:only-of-type {\n",
       "        vertical-align: middle;\n",
       "    }\n",
       "\n",
       "    .dataframe tbody tr th {\n",
       "        vertical-align: top;\n",
       "    }\n",
       "\n",
       "    .dataframe thead th {\n",
       "        text-align: right;\n",
       "    }\n",
       "</style>\n",
       "<table border=\"1\" class=\"dataframe\">\n",
       "  <thead>\n",
       "    <tr style=\"text-align: right;\">\n",
       "      <th></th>\n",
       "      <th>school_code</th>\n",
       "      <th>class</th>\n",
       "      <th>name</th>\n",
       "      <th>date_Of_Birth</th>\n",
       "      <th>age</th>\n",
       "      <th>height</th>\n",
       "      <th>weight</th>\n",
       "      <th>address</th>\n",
       "    </tr>\n",
       "  </thead>\n",
       "  <tbody>\n",
       "    <tr>\n",
       "      <th>S1</th>\n",
       "      <td>s001</td>\n",
       "      <td>V</td>\n",
       "      <td>Alberto Franco</td>\n",
       "      <td>15/05/2002</td>\n",
       "      <td>12</td>\n",
       "      <td>173</td>\n",
       "      <td>35</td>\n",
       "      <td>street1</td>\n",
       "    </tr>\n",
       "    <tr>\n",
       "      <th>S4</th>\n",
       "      <td>s001</td>\n",
       "      <td>VI</td>\n",
       "      <td>Eesha Hinton</td>\n",
       "      <td>25/09/1998</td>\n",
       "      <td>13</td>\n",
       "      <td>167</td>\n",
       "      <td>30</td>\n",
       "      <td>street1</td>\n",
       "    </tr>\n",
       "  </tbody>\n",
       "</table>\n",
       "</div>"
      ],
      "text/plain": [
       "   school_code class            name date_Of_Birth   age  height  weight  \\\n",
       "S1        s001     V  Alberto Franco     15/05/2002   12     173      35   \n",
       "S4        s001    VI    Eesha Hinton     25/09/1998   13     167      30   \n",
       "\n",
       "    address  \n",
       "S1  street1  \n",
       "S4  street1  "
      ]
     },
     "execution_count": 25,
     "metadata": {},
     "output_type": "execute_result"
    }
   ],
   "source": [
    "student_data.groupby([\"school_code\"]).get_group(\"s001\")"
   ]
  },
  {
   "cell_type": "markdown",
   "id": "e49196d7",
   "metadata": {},
   "source": [
    "7. Write a Pandas program to split a dataset, group by one column and get mean, min, and max values by group. Using the following dataset find the mean, min, and max values of purchase amount (purch_amt) group by customer id (customer_id)."
   ]
  },
  {
   "cell_type": "code",
   "execution_count": 26,
   "id": "90af0aff",
   "metadata": {},
   "outputs": [],
   "source": [
    "orders_data = pd.DataFrame({\n",
    "'ord_no':[70001,70009,70002,70004,70007,70005,70008,70010,70003,70012,70011,70013],\n",
    "'purch_amt':[150.5,270.65,65.26,110.5,948.5,2400.6,5760,1983.43,2480.4,250.45, 75.29,3045.6],\n",
    "'ord_date': ['2012-10-05','2012-09-10','2012-10-05','2012-08-17','2012-09-10','2012-07-27','2012-09-10','2012-10-10','2012-10-10','2012-06-27','2012-08-17','2012-04-25'],\n",
    "'customer_id':[3005,3001,3002,3009,3005,3007,3002,3004,3009,3008,3003,3002],\n",
    "'salesman_id': [5002,5005,5001,5003,5002,5001,5001,5006,5003,5002,5007,5001]})"
   ]
  },
  {
   "cell_type": "code",
   "execution_count": 30,
   "id": "0ed71378",
   "metadata": {},
   "outputs": [
    {
     "data": {
      "text/html": [
       "<div>\n",
       "<style scoped>\n",
       "    .dataframe tbody tr th:only-of-type {\n",
       "        vertical-align: middle;\n",
       "    }\n",
       "\n",
       "    .dataframe tbody tr th {\n",
       "        vertical-align: top;\n",
       "    }\n",
       "\n",
       "    .dataframe thead th {\n",
       "        text-align: right;\n",
       "    }\n",
       "</style>\n",
       "<table border=\"1\" class=\"dataframe\">\n",
       "  <thead>\n",
       "    <tr style=\"text-align: right;\">\n",
       "      <th></th>\n",
       "      <th>mean</th>\n",
       "      <th>min</th>\n",
       "      <th>max</th>\n",
       "    </tr>\n",
       "    <tr>\n",
       "      <th>customer_id</th>\n",
       "      <th></th>\n",
       "      <th></th>\n",
       "      <th></th>\n",
       "    </tr>\n",
       "  </thead>\n",
       "  <tbody>\n",
       "    <tr>\n",
       "      <th>3001</th>\n",
       "      <td>270.650000</td>\n",
       "      <td>270.65</td>\n",
       "      <td>270.65</td>\n",
       "    </tr>\n",
       "    <tr>\n",
       "      <th>3002</th>\n",
       "      <td>2956.953333</td>\n",
       "      <td>65.26</td>\n",
       "      <td>5760.00</td>\n",
       "    </tr>\n",
       "    <tr>\n",
       "      <th>3003</th>\n",
       "      <td>75.290000</td>\n",
       "      <td>75.29</td>\n",
       "      <td>75.29</td>\n",
       "    </tr>\n",
       "    <tr>\n",
       "      <th>3004</th>\n",
       "      <td>1983.430000</td>\n",
       "      <td>1983.43</td>\n",
       "      <td>1983.43</td>\n",
       "    </tr>\n",
       "    <tr>\n",
       "      <th>3005</th>\n",
       "      <td>549.500000</td>\n",
       "      <td>150.50</td>\n",
       "      <td>948.50</td>\n",
       "    </tr>\n",
       "    <tr>\n",
       "      <th>3007</th>\n",
       "      <td>2400.600000</td>\n",
       "      <td>2400.60</td>\n",
       "      <td>2400.60</td>\n",
       "    </tr>\n",
       "    <tr>\n",
       "      <th>3008</th>\n",
       "      <td>250.450000</td>\n",
       "      <td>250.45</td>\n",
       "      <td>250.45</td>\n",
       "    </tr>\n",
       "    <tr>\n",
       "      <th>3009</th>\n",
       "      <td>1295.450000</td>\n",
       "      <td>110.50</td>\n",
       "      <td>2480.40</td>\n",
       "    </tr>\n",
       "  </tbody>\n",
       "</table>\n",
       "</div>"
      ],
      "text/plain": [
       "                    mean      min      max\n",
       "customer_id                               \n",
       "3001          270.650000   270.65   270.65\n",
       "3002         2956.953333    65.26  5760.00\n",
       "3003           75.290000    75.29    75.29\n",
       "3004         1983.430000  1983.43  1983.43\n",
       "3005          549.500000   150.50   948.50\n",
       "3007         2400.600000  2400.60  2400.60\n",
       "3008          250.450000   250.45   250.45\n",
       "3009         1295.450000   110.50  2480.40"
      ]
     },
     "execution_count": 30,
     "metadata": {},
     "output_type": "execute_result"
    }
   ],
   "source": [
    "orders_data.groupby(\"customer_id\")[\"purch_amt\"].agg([\"mean\",\"min\",\"max\"])"
   ]
  },
  {
   "cell_type": "markdown",
   "id": "9089830b",
   "metadata": {},
   "source": [
    "8. Write a Pandas program to split a dataset to group by two columns and count by each row."
   ]
  },
  {
   "cell_type": "code",
   "execution_count": 36,
   "id": "ff15a79d",
   "metadata": {},
   "outputs": [
    {
     "data": {
      "text/html": [
       "<div>\n",
       "<style scoped>\n",
       "    .dataframe tbody tr th:only-of-type {\n",
       "        vertical-align: middle;\n",
       "    }\n",
       "\n",
       "    .dataframe tbody tr th {\n",
       "        vertical-align: top;\n",
       "    }\n",
       "\n",
       "    .dataframe thead th {\n",
       "        text-align: right;\n",
       "    }\n",
       "</style>\n",
       "<table border=\"1\" class=\"dataframe\">\n",
       "  <thead>\n",
       "    <tr style=\"text-align: right;\">\n",
       "      <th></th>\n",
       "      <th>salesman_id</th>\n",
       "      <th>customer_id</th>\n",
       "      <th>ord_no</th>\n",
       "    </tr>\n",
       "  </thead>\n",
       "  <tbody>\n",
       "    <tr>\n",
       "      <th>0</th>\n",
       "      <td>5001</td>\n",
       "      <td>3002</td>\n",
       "      <td>3</td>\n",
       "    </tr>\n",
       "    <tr>\n",
       "      <th>1</th>\n",
       "      <td>5001</td>\n",
       "      <td>3007</td>\n",
       "      <td>1</td>\n",
       "    </tr>\n",
       "    <tr>\n",
       "      <th>2</th>\n",
       "      <td>5002</td>\n",
       "      <td>3005</td>\n",
       "      <td>2</td>\n",
       "    </tr>\n",
       "    <tr>\n",
       "      <th>3</th>\n",
       "      <td>5002</td>\n",
       "      <td>3008</td>\n",
       "      <td>1</td>\n",
       "    </tr>\n",
       "    <tr>\n",
       "      <th>4</th>\n",
       "      <td>5003</td>\n",
       "      <td>3009</td>\n",
       "      <td>2</td>\n",
       "    </tr>\n",
       "    <tr>\n",
       "      <th>5</th>\n",
       "      <td>5005</td>\n",
       "      <td>3001</td>\n",
       "      <td>1</td>\n",
       "    </tr>\n",
       "    <tr>\n",
       "      <th>6</th>\n",
       "      <td>5006</td>\n",
       "      <td>3004</td>\n",
       "      <td>1</td>\n",
       "    </tr>\n",
       "    <tr>\n",
       "      <th>7</th>\n",
       "      <td>5007</td>\n",
       "      <td>3003</td>\n",
       "      <td>1</td>\n",
       "    </tr>\n",
       "  </tbody>\n",
       "</table>\n",
       "</div>"
      ],
      "text/plain": [
       "   salesman_id  customer_id  ord_no\n",
       "0         5001         3002       3\n",
       "1         5001         3007       1\n",
       "2         5002         3005       2\n",
       "3         5002         3008       1\n",
       "4         5003         3009       2\n",
       "5         5005         3001       1\n",
       "6         5006         3004       1\n",
       "7         5007         3003       1"
      ]
     },
     "execution_count": 36,
     "metadata": {},
     "output_type": "execute_result"
    }
   ],
   "source": [
    "orders_data.groupby([\"salesman_id\",\"customer_id\"])[\"ord_no\"].count().reset_index()"
   ]
  },
  {
   "cell_type": "markdown",
   "id": "d9eec3ff",
   "metadata": {},
   "source": [
    "9. Write a Pandas program to split a dataset to group by two columns and then sort the aggregated results within the groups.\n",
    "In the following dataset group on 'customer_id', 'salesman_id' and then sort sum of purch_amt within the groups"
   ]
  },
  {
   "cell_type": "code",
   "execution_count": 41,
   "id": "fab3ab35",
   "metadata": {},
   "outputs": [],
   "source": [
    "df = pd.DataFrame({\n",
    "'ord_no':[70001,70009,70002,70004,70007,70005,70008,70010,70003,70012,70011,70013],\n",
    "'purch_amt':[150.5,270.65,65.26,110.5,948.5,2400.6,5760,1983.43,2480.4,250.45, 75.29,3045.6],\n",
    "'ord_date': ['2012-10-05','2012-09-10','2012-10-05','2012-08-17','2012-09-10','2012-07-27','2012-09-10','2012-10-10','2012-10-10','2012-06-27','2012-08-17','2012-04-25'],\n",
    "'customer_id':[3001,3001,3005,3001,3005,3001,3005,3001,3005,3001,3005,3005],\n",
    "'salesman_id': [5002,5005,5001,5003,5002,5001,5001,5006,5003,5002,5007,5001]})"
   ]
  },
  {
   "cell_type": "code",
   "execution_count": 53,
   "id": "4a902153",
   "metadata": {},
   "outputs": [
    {
     "data": {
      "text/plain": [
       "0    2400.60\n",
       "1     400.95\n",
       "2     110.50\n",
       "3     270.65\n",
       "4    1983.43\n",
       "5    8870.86\n",
       "6     948.50\n",
       "7    2480.40\n",
       "8      75.29\n",
       "Name: purch_amt, dtype: float64"
      ]
     },
     "execution_count": 53,
     "metadata": {},
     "output_type": "execute_result"
    }
   ],
   "source": [
    "df_agg=df.groupby([\"customer_id\",\"salesman_id\"])[\"purch_amt\"].sum().reset_index()\n",
    "result = df_agg['purch_amt'].groupby(level=0, group_keys=False)\n",
    "result.nlargest()"
   ]
  },
  {
   "cell_type": "code",
   "execution_count": null,
   "id": "796c4d32",
   "metadata": {},
   "outputs": [],
   "source": []
  }
 ],
 "metadata": {
  "kernelspec": {
   "display_name": "Python 3 (ipykernel)",
   "language": "python",
   "name": "python3"
  },
  "language_info": {
   "codemirror_mode": {
    "name": "ipython",
    "version": 3
   },
   "file_extension": ".py",
   "mimetype": "text/x-python",
   "name": "python",
   "nbconvert_exporter": "python",
   "pygments_lexer": "ipython3",
   "version": "3.11.5"
  }
 },
 "nbformat": 4,
 "nbformat_minor": 5
}
