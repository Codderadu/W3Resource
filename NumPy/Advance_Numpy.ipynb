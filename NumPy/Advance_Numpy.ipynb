{
 "cells": [
  {
   "cell_type": "code",
   "execution_count": 1,
   "id": "16e1083c",
   "metadata": {},
   "outputs": [],
   "source": [
    "import numpy as np"
   ]
  },
  {
   "cell_type": "markdown",
   "id": "3a06713e",
   "metadata": {},
   "source": [
    "#### 1. Write a NumPy program to find the dot product of two arrays of different dimensions."
   ]
  },
  {
   "cell_type": "code",
   "execution_count": 3,
   "id": "6fbe6f3c",
   "metadata": {},
   "outputs": [],
   "source": [
    "nums1=np.array([[1,2],[3,4],[5,6]])\n",
    "nums2=np.array([7,8])"
   ]
  },
  {
   "cell_type": "code",
   "execution_count": 6,
   "id": "9a15beac",
   "metadata": {},
   "outputs": [
    {
     "data": {
      "text/plain": [
       "array([23, 53, 83])"
      ]
     },
     "execution_count": 6,
     "metadata": {},
     "output_type": "execute_result"
    }
   ],
   "source": [
    "np.dot(nums1,nums2)"
   ]
  },
  {
   "cell_type": "markdown",
   "id": "34968b11",
   "metadata": {},
   "source": [
    "##### 2. Write a NumPy program to create a 3x3 identity matrix and stack it vertically and horizontally."
   ]
  },
  {
   "cell_type": "code",
   "execution_count": 9,
   "id": "f1e4f269",
   "metadata": {},
   "outputs": [],
   "source": [
    "m=np.identity(3)"
   ]
  },
  {
   "cell_type": "code",
   "execution_count": 12,
   "id": "f12bafa1",
   "metadata": {},
   "outputs": [
    {
     "data": {
      "text/plain": [
       "array([[1., 0., 0.],\n",
       "       [0., 1., 0.],\n",
       "       [0., 0., 1.],\n",
       "       [1., 0., 0.],\n",
       "       [0., 1., 0.],\n",
       "       [0., 0., 1.]])"
      ]
     },
     "execution_count": 12,
     "metadata": {},
     "output_type": "execute_result"
    }
   ],
   "source": [
    "np.vstack((m,m))"
   ]
  },
  {
   "cell_type": "code",
   "execution_count": 13,
   "id": "34b12612",
   "metadata": {},
   "outputs": [
    {
     "data": {
      "text/plain": [
       "array([[1., 0., 0., 1., 0., 0.],\n",
       "       [0., 1., 0., 0., 1., 0.],\n",
       "       [0., 0., 1., 0., 0., 1.]])"
      ]
     },
     "execution_count": 13,
     "metadata": {},
     "output_type": "execute_result"
    }
   ],
   "source": [
    "np.hstack((m,m))"
   ]
  },
  {
   "cell_type": "markdown",
   "id": "909721e1",
   "metadata": {},
   "source": [
    "#### 3. Write a NumPy program to create a 4x4 array with random values and find the sum of each row."
   ]
  },
  {
   "cell_type": "code",
   "execution_count": 18,
   "id": "ab2fdd43",
   "metadata": {},
   "outputs": [],
   "source": [
    "mat=np.random.randint(1,100,16).reshape(4,4)"
   ]
  },
  {
   "cell_type": "code",
   "execution_count": 19,
   "id": "1dc78e1e",
   "metadata": {},
   "outputs": [
    {
     "data": {
      "text/plain": [
       "array([257, 203, 108, 168])"
      ]
     },
     "execution_count": 19,
     "metadata": {},
     "output_type": "execute_result"
    }
   ],
   "source": [
    "np.sum(mat,axis=1)"
   ]
  },
  {
   "cell_type": "markdown",
   "id": "6671840b",
   "metadata": {},
   "source": [
    "#### 4. Write a NumPy program to create a 3x3 array with random values and subtract the mean of each row from each element."
   ]
  },
  {
   "cell_type": "code",
   "execution_count": 21,
   "id": "d4890864",
   "metadata": {},
   "outputs": [],
   "source": [
    "mat=np.random.randint(1,100,(4,4))"
   ]
  },
  {
   "cell_type": "code",
   "execution_count": 23,
   "id": "9dca1004",
   "metadata": {},
   "outputs": [],
   "source": [
    "m=np.mean(mat,axis=1)"
   ]
  },
  {
   "cell_type": "code",
   "execution_count": 24,
   "id": "95c7e5de",
   "metadata": {},
   "outputs": [
    {
     "data": {
      "text/plain": [
       "array([[ 55.25, -31.25, -23.75, -22.  ],\n",
       "       [ 29.25, -18.25,   7.25, -38.  ],\n",
       "       [ 21.25,  42.75, -11.75,   6.  ],\n",
       "       [-22.75, -11.25,  -2.75,  20.  ]])"
      ]
     },
     "execution_count": 24,
     "metadata": {},
     "output_type": "execute_result"
    }
   ],
   "source": [
    "mat-m"
   ]
  },
  {
   "cell_type": "markdown",
   "id": "6b2825f3",
   "metadata": {},
   "source": [
    "#### 5. Write a NumPy program to create a 3x3 array with random values and subtract the mean of each column from each element."
   ]
  },
  {
   "cell_type": "code",
   "execution_count": 28,
   "id": "a1981286",
   "metadata": {},
   "outputs": [],
   "source": [
    "mat=np.random.randint(1,200,(3,3))"
   ]
  },
  {
   "cell_type": "code",
   "execution_count": 29,
   "id": "2a47a760",
   "metadata": {},
   "outputs": [
    {
     "data": {
      "text/plain": [
       "array([[ 48.33333333, -41.66666667, -13.        ],\n",
       "       [ 11.33333333,  47.33333333,  69.        ],\n",
       "       [-59.66666667,  -5.66666667, -56.        ]])"
      ]
     },
     "execution_count": 29,
     "metadata": {},
     "output_type": "execute_result"
    }
   ],
   "source": [
    "mat-np.mean(mat,axis=0)"
   ]
  },
  {
   "cell_type": "markdown",
   "id": "70abfc16",
   "metadata": {},
   "source": [
    "#### 6. Write a NumPy program to create a 5x5 array with random values and normalize it row-wise."
   ]
  },
  {
   "cell_type": "code",
   "execution_count": 42,
   "id": "1a4c97a8",
   "metadata": {},
   "outputs": [
    {
     "data": {
      "text/plain": [
       "array([[0.89114427, 0.02000431, 0.33912064, 0.24576721, 0.17337067],\n",
       "       [0.31976157, 0.29267133, 0.63323434, 0.10062089, 0.63323434],\n",
       "       [0.20172306, 0.03391804, 0.65551068, 0.64372863, 0.33775224],\n",
       "       [0.22611908, 0.88481381, 0.23371597, 0.33068799, 0.04468757],\n",
       "       [0.05878958, 0.19004074, 0.28483324, 0.76335308, 0.54460115]])"
      ]
     },
     "execution_count": 42,
     "metadata": {},
     "output_type": "execute_result"
    }
   ],
   "source": [
    "mat=np.random.randint(1,2000,(5,5))\n",
    "mat/np.linalg.norm(mat,axis=1,keepdims=True)\n"
   ]
  },
  {
   "cell_type": "markdown",
   "id": "2dcf77f4",
   "metadata": {},
   "source": [
    "#### 8. Write a NumPy program to create a 3x3x3 array with random values and find the sum along the last axis."
   ]
  },
  {
   "cell_type": "code",
   "execution_count": 45,
   "id": "70da8256",
   "metadata": {},
   "outputs": [
    {
     "data": {
      "text/plain": [
       "array([[2.05163365, 1.62567888, 1.77644367],\n",
       "       [1.72262257, 1.53121644, 0.92905226],\n",
       "       [1.72687762, 2.2754087 , 2.1052793 ]])"
      ]
     },
     "execution_count": 45,
     "metadata": {},
     "output_type": "execute_result"
    }
   ],
   "source": [
    "mat=np.random.rand(3,3,3)\n",
    "np.sum(mat,axis=2)"
   ]
  },
  {
   "cell_type": "markdown",
   "id": "75fc7d04",
   "metadata": {},
   "source": [
    "9. Write a NumPy program to create a 5x5 array with random values and sort each row."
   ]
  },
  {
   "cell_type": "markdown",
   "id": "d2d9f87e",
   "metadata": {},
   "source": [
    "10.Write a NumPy program to create a 5x5 array with random values and sort each column."
   ]
  },
  {
   "cell_type": "code",
   "execution_count": 46,
   "id": "f515cefe",
   "metadata": {},
   "outputs": [],
   "source": [
    "mat=np.random.rand(5,5)"
   ]
  },
  {
   "cell_type": "code",
   "execution_count": 47,
   "id": "8e144f84",
   "metadata": {},
   "outputs": [
    {
     "data": {
      "text/plain": [
       "array([[5.45754932e-02, 5.94286547e-02, 2.97669355e-01, 5.31717617e-01,\n",
       "        5.73317956e-01],\n",
       "       [2.25120633e-01, 3.81255298e-01, 6.17894749e-01, 6.41855445e-01,\n",
       "        8.80976585e-01],\n",
       "       [2.42623937e-01, 4.85142348e-01, 5.17669674e-01, 5.97963935e-01,\n",
       "        8.03436575e-01],\n",
       "       [8.67352373e-04, 2.65013129e-01, 3.56008917e-01, 5.78619987e-01,\n",
       "        5.83263324e-01],\n",
       "       [7.90340989e-02, 5.32284406e-01, 7.59498268e-01, 8.36027268e-01,\n",
       "        9.13440841e-01]])"
      ]
     },
     "execution_count": 47,
     "metadata": {},
     "output_type": "execute_result"
    }
   ],
   "source": [
    "np.sort(mat,axis=1)\n"
   ]
  },
  {
   "cell_type": "code",
   "execution_count": 48,
   "id": "13c0a726",
   "metadata": {},
   "outputs": [
    {
     "data": {
      "text/plain": [
       "array([[8.67352373e-04, 5.45754932e-02, 2.25120633e-01, 2.42623937e-01,\n",
       "        5.94286547e-02],\n",
       "       [7.90340989e-02, 3.56008917e-01, 2.65013129e-01, 2.97669355e-01,\n",
       "        5.17669674e-01],\n",
       "       [5.31717617e-01, 3.81255298e-01, 4.85142348e-01, 5.32284406e-01,\n",
       "        5.83263324e-01],\n",
       "       [8.03436575e-01, 5.97963935e-01, 5.73317956e-01, 5.78619987e-01,\n",
       "        6.17894749e-01],\n",
       "       [8.80976585e-01, 8.36027268e-01, 9.13440841e-01, 6.41855445e-01,\n",
       "        7.59498268e-01]])"
      ]
     },
     "execution_count": 48,
     "metadata": {},
     "output_type": "execute_result"
    }
   ],
   "source": [
    "np.sort(mat,axis=0)"
   ]
  },
  {
   "cell_type": "markdown",
   "id": "14efc4ac",
   "metadata": {},
   "source": [
    "#### 11. Write a NumPy program to create a 5x5 array with random values and find the second-largest value in each row."
   ]
  },
  {
   "cell_type": "markdown",
   "id": "85a6203b",
   "metadata": {},
   "source": [
    "#### 12. Write a NumPy program to create a 5x5 array with random values and find the second-largest value in each column."
   ]
  },
  {
   "cell_type": "code",
   "execution_count": 60,
   "id": "06531838",
   "metadata": {},
   "outputs": [],
   "source": [
    "mat=np.random.rand(5,5)"
   ]
  },
  {
   "cell_type": "code",
   "execution_count": 64,
   "id": "3ab50f13",
   "metadata": {},
   "outputs": [
    {
     "data": {
      "text/plain": [
       "array([0.51041263, 0.77499909, 0.52783602, 0.72610449, 0.70010053])"
      ]
     },
     "execution_count": 64,
     "metadata": {},
     "output_type": "execute_result"
    }
   ],
   "source": [
    "np.partition(mat,-2,axis=1)[:,-2]"
   ]
  },
  {
   "cell_type": "code",
   "execution_count": 66,
   "id": "2da6870c",
   "metadata": {},
   "outputs": [
    {
     "data": {
      "text/plain": [
       "array([0.77499909, 0.70010053, 0.73660155, 0.52783602, 0.72610449])"
      ]
     },
     "execution_count": 66,
     "metadata": {},
     "output_type": "execute_result"
    }
   ],
   "source": [
    "#for columns\n",
    "np.partition(mat,-2,axis=0)[-2,:]"
   ]
  },
  {
   "cell_type": "markdown",
   "id": "35f1ab96",
   "metadata": {},
   "source": [
    "#### 13. Write a NumPy program to create a 5x5 array with random values and replace the maximum value with 0."
   ]
  },
  {
   "cell_type": "markdown",
   "id": "8d36b0c5",
   "metadata": {},
   "source": [
    "####  14. Write a NumPy program to create a 5x5 array with random values and replace the minimum value with 0."
   ]
  },
  {
   "cell_type": "code",
   "execution_count": 67,
   "id": "288d6c50",
   "metadata": {},
   "outputs": [],
   "source": [
    "mat=np.random.rand(5,5)"
   ]
  },
  {
   "cell_type": "code",
   "execution_count": 73,
   "id": "c4d08b00",
   "metadata": {},
   "outputs": [],
   "source": [
    "max=np.max(mat)\n",
    "mat[mat==max]=0"
   ]
  },
  {
   "cell_type": "code",
   "execution_count": 78,
   "id": "3c5f9760",
   "metadata": {},
   "outputs": [],
   "source": [
    "min_val=np.min(mat)\n",
    "mat[mat==min_val]=0"
   ]
  },
  {
   "cell_type": "markdown",
   "id": "29563c16",
   "metadata": {},
   "source": [
    "#### 15. Write a NumPy program to create a 5x5 array with random values and calculate the exponential of each element."
   ]
  },
  {
   "cell_type": "code",
   "execution_count": 82,
   "id": "7016d9c2",
   "metadata": {},
   "outputs": [],
   "source": [
    "mat=np.random.rand(5,5)"
   ]
  },
  {
   "cell_type": "code",
   "execution_count": 83,
   "id": "89830c1f",
   "metadata": {},
   "outputs": [
    {
     "data": {
      "text/plain": [
       "array([[1.11034817, 1.06396906, 1.38069844, 2.26824132, 2.316276  ],\n",
       "       [2.20217936, 1.36053642, 1.55355702, 1.19732934, 1.10936563],\n",
       "       [2.19101676, 1.54011891, 1.09258105, 1.86596307, 1.66916333],\n",
       "       [1.39138166, 1.65653541, 1.78905674, 1.58018316, 1.73345879],\n",
       "       [1.44760474, 1.23034926, 1.63117927, 2.13935464, 1.1996812 ]])"
      ]
     },
     "execution_count": 83,
     "metadata": {},
     "output_type": "execute_result"
    }
   ],
   "source": [
    "np.exp(mat)"
   ]
  },
  {
   "cell_type": "code",
   "execution_count": null,
   "id": "98d5b753",
   "metadata": {},
   "outputs": [],
   "source": []
  }
 ],
 "metadata": {
  "kernelspec": {
   "display_name": "Python 3 (ipykernel)",
   "language": "python",
   "name": "python3"
  },
  "language_info": {
   "codemirror_mode": {
    "name": "ipython",
    "version": 3
   },
   "file_extension": ".py",
   "mimetype": "text/x-python",
   "name": "python",
   "nbconvert_exporter": "python",
   "pygments_lexer": "ipython3",
   "version": "3.11.5"
  }
 },
 "nbformat": 4,
 "nbformat_minor": 5
}
