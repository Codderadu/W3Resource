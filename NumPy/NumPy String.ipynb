{
 "cells": [
  {
   "cell_type": "code",
   "execution_count": 1,
   "id": "65098fac",
   "metadata": {},
   "outputs": [],
   "source": [
    "import numpy as np"
   ]
  },
  {
   "cell_type": "markdown",
   "id": "619685c6",
   "metadata": {},
   "source": [
    "1.Write a NumPy program to concatenate element-wise two arrays of string."
   ]
  },
  {
   "cell_type": "code",
   "execution_count": 19,
   "id": "7ef7bc99",
   "metadata": {},
   "outputs": [],
   "source": [
    "a=np.array(['Python','PHP'],dtype='str')\n",
    "b=np.array([' Java', ' C++'],dtype='str')"
   ]
  },
  {
   "cell_type": "code",
   "execution_count": 20,
   "id": "81829b98",
   "metadata": {},
   "outputs": [
    {
     "data": {
      "text/plain": [
       "array(['Python Java', 'PHP C++'], dtype='<U11')"
      ]
     },
     "execution_count": 20,
     "metadata": {},
     "output_type": "execute_result"
    }
   ],
   "source": [
    "np.char.add(a,b)"
   ]
  },
  {
   "cell_type": "markdown",
   "id": "6e1c1aed",
   "metadata": {},
   "source": [
    "2. Write a NumPy program to repeat all the elements three times of a given array of string"
   ]
  },
  {
   "cell_type": "code",
   "execution_count": null,
   "id": "513bdae2",
   "metadata": {},
   "outputs": [],
   "source": []
  }
 ],
 "metadata": {
  "kernelspec": {
   "display_name": "Python 3 (ipykernel)",
   "language": "python",
   "name": "python3"
  },
  "language_info": {
   "codemirror_mode": {
    "name": "ipython",
    "version": 3
   },
   "file_extension": ".py",
   "mimetype": "text/x-python",
   "name": "python",
   "nbconvert_exporter": "python",
   "pygments_lexer": "ipython3",
   "version": "3.11.5"
  }
 },
 "nbformat": 4,
 "nbformat_minor": 5
}
