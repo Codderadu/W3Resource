{
 "cells": [
  {
   "cell_type": "code",
   "execution_count": 1,
   "id": "26e469c5",
   "metadata": {},
   "outputs": [],
   "source": [
    "import numpy as np"
   ]
  },
  {
   "cell_type": "markdown",
   "id": "18e05c36",
   "metadata": {},
   "source": [
    "#### 1. Write a NumPy program to sort a given array of shape 2 along the first axis, last axis and on flattened array."
   ]
  },
  {
   "cell_type": "code",
   "execution_count": 7,
   "id": "658cd334",
   "metadata": {},
   "outputs": [],
   "source": [
    "mat=np.array([[2,1],[4,3]])"
   ]
  },
  {
   "cell_type": "code",
   "execution_count": 5,
   "id": "599eff89",
   "metadata": {},
   "outputs": [
    {
     "data": {
      "text/plain": [
       "array([[1, 2],\n",
       "       [3, 4]])"
      ]
     },
     "execution_count": 5,
     "metadata": {},
     "output_type": "execute_result"
    }
   ],
   "source": [
    "np.sort(mat,axis=1)"
   ]
  },
  {
   "cell_type": "code",
   "execution_count": 15,
   "id": "8472c12b",
   "metadata": {},
   "outputs": [
    {
     "data": {
      "text/plain": [
       "array([[1, 2],\n",
       "       [3, 4]])"
      ]
     },
     "execution_count": 15,
     "metadata": {},
     "output_type": "execute_result"
    }
   ],
   "source": [
    "np.sort(mat,axis=0)"
   ]
  },
  {
   "cell_type": "code",
   "execution_count": 13,
   "id": "f7bd5c66",
   "metadata": {},
   "outputs": [
    {
     "data": {
      "text/plain": [
       "array([1, 2, 3, 4])"
      ]
     },
     "execution_count": 13,
     "metadata": {},
     "output_type": "execute_result"
    }
   ],
   "source": [
    "np.sort(mat,axis=None)"
   ]
  },
  {
   "cell_type": "code",
   "execution_count": 9,
   "id": "d33ec1c8",
   "metadata": {},
   "outputs": [
    {
     "data": {
      "text/plain": [
       "array([[1, 2],\n",
       "       [3, 4]])"
      ]
     },
     "execution_count": 9,
     "metadata": {},
     "output_type": "execute_result"
    }
   ],
   "source": []
  },
  {
   "cell_type": "markdown",
   "id": "76188414",
   "metadata": {},
   "source": [
    "#### 2. Write a NumPy program to create a structured array from given student name, height, class and their data types. Now sort the array on height."
   ]
  },
  {
   "cell_type": "code",
   "execution_count": 16,
   "id": "4499d591",
   "metadata": {},
   "outputs": [],
   "source": [
    "data_type = [('name', 'S15'), ('class', int), ('height', float)]\n",
    "students_details = [('James', 5, 48.5), ('Nail', 6, 52.5),('Paul', 5, 42.10), ('Pit', 5, 40.11)]"
   ]
  },
  {
   "cell_type": "code",
   "execution_count": 18,
   "id": "5ae6e7c4",
   "metadata": {},
   "outputs": [],
   "source": [
    "students=np.array(students_details,dtype=data_type)"
   ]
  },
  {
   "cell_type": "code",
   "execution_count": 21,
   "id": "9fb9fbcb",
   "metadata": {},
   "outputs": [
    {
     "data": {
      "text/plain": [
       "array([(b'Pit', 5, 40.11), (b'Paul', 5, 42.1 ), (b'James', 5, 48.5 ),\n",
       "       (b'Nail', 6, 52.5 )],\n",
       "      dtype=[('name', 'S15'), ('class', '<i4'), ('height', '<f8')])"
      ]
     },
     "execution_count": 21,
     "metadata": {},
     "output_type": "execute_result"
    }
   ],
   "source": [
    "np.sort(students,order='height')"
   ]
  },
  {
   "cell_type": "code",
   "execution_count": null,
   "id": "751be6e7",
   "metadata": {},
   "outputs": [],
   "source": []
  }
 ],
 "metadata": {
  "kernelspec": {
   "display_name": "Python 3 (ipykernel)",
   "language": "python",
   "name": "python3"
  },
  "language_info": {
   "codemirror_mode": {
    "name": "ipython",
    "version": 3
   },
   "file_extension": ".py",
   "mimetype": "text/x-python",
   "name": "python",
   "nbconvert_exporter": "python",
   "pygments_lexer": "ipython3",
   "version": "3.11.5"
  }
 },
 "nbformat": 4,
 "nbformat_minor": 5
}
